{
 "cells": [
  {
   "cell_type": "markdown",
   "metadata": {},
   "source": [
    "## Ensemble Model over Decision Tree\n",
    "\n",
    "### Indrajit Singh"
   ]
  },
  {
   "cell_type": "code",
   "execution_count": null,
   "metadata": {},
   "outputs": [],
   "source": [
    "#Importing Libraries\n",
    "import pandas as pd\n",
    "import numpy as np\n",
    "import seaborn as sns\n",
    "from sklearn.model_selection import train_test_split\n",
    "import sklearn.ensemble as ensemble\n",
    "from sklearn.tree import DecisionTreeRegressor\n",
    "import matplotlib.pyplot as plt"
   ]
  },
  {
   "cell_type": "code",
   "execution_count": 2,
   "metadata": {},
   "outputs": [],
   "source": [
    "#Loading Data\n",
    "data = pd.read_csv('D:/downloads/cars.csv')\n",
    "data = data[['MPG','Displacement','Horsepower','Weight','Acceleration']]"
   ]
  },
  {
   "cell_type": "code",
   "execution_count": 3,
   "metadata": {},
   "outputs": [],
   "source": [
    "#Creating the Test Data\n",
    "test = data.sample(n = 50)\n",
    "X_test_main = test[['Displacement','Horsepower','Weight','Acceleration']]\n",
    "y_test_main = test.MPG"
   ]
  },
  {
   "cell_type": "code",
   "execution_count": 4,
   "metadata": {},
   "outputs": [],
   "source": [
    "X = data[['Displacement','Horsepower','Weight','Acceleration']]\n",
    "y = data.MPG"
   ]
  },
  {
   "cell_type": "code",
   "execution_count": 5,
   "metadata": {},
   "outputs": [],
   "source": [
    "#1st sample\n",
    "X_train, X_test, y_train, y_test = train_test_split(X, y, test_size = 0.3, random_state = 100)\n",
    "#Create a Bagged Decision Tree model object\n",
    "baggedModel = ensemble.BaggingRegressor(base_estimator=None, n_estimators=50, oob_score=True)\n",
    "baggedModel.fit(X_train,y_train)\n",
    "pred_bag1=baggedModel.predict(X_test_main)\n",
    "#Decision Tree Model\n",
    "model = DecisionTreeRegressor(max_depth=10, min_samples_leaf=5)\n",
    "model.fit(X_train, y_train)\n",
    "pred_dec1=model.predict(X_test_main)"
   ]
  },
  {
   "cell_type": "code",
   "execution_count": 6,
   "metadata": {},
   "outputs": [],
   "source": [
    "#2nd sample\n",
    "X_train, X_test, y_train, y_test = train_test_split(X, y, test_size = 0.3, random_state = 200)\n",
    "#Create a Bagged Decision Tree model object\n",
    "baggedModel = ensemble.BaggingRegressor(base_estimator=None, n_estimators=50, oob_score=True)\n",
    "baggedModel.fit(X_train,y_train)\n",
    "pred_bag2=baggedModel.predict(X_test_main)\n",
    "#Decision Tree Model\n",
    "model = DecisionTreeRegressor(max_depth=10, min_samples_leaf=5)\n",
    "model.fit(X_train, y_train)\n",
    "pred_dec2=model.predict(X_test_main)"
   ]
  },
  {
   "cell_type": "code",
   "execution_count": 7,
   "metadata": {},
   "outputs": [],
   "source": [
    "#3rd sample\n",
    "X_train, X_test, y_train, y_test = train_test_split(X, y, test_size = 0.3, random_state = 300)\n",
    "#Create a Bagged Decision Tree model object\n",
    "baggedModel = ensemble.BaggingRegressor(base_estimator=None, n_estimators=50, oob_score=True)\n",
    "baggedModel.fit(X_train,y_train)\n",
    "pred_bag3=baggedModel.predict(X_test_main)\n",
    "#Decision Tree Model\n",
    "model = DecisionTreeRegressor(max_depth=10, min_samples_leaf=5)\n",
    "model.fit(X_train, y_train)\n",
    "pred_dec3=model.predict(X_test_main)"
   ]
  },
  {
   "cell_type": "code",
   "execution_count": 8,
   "metadata": {},
   "outputs": [],
   "source": [
    "#4th sample\n",
    "X_train, X_test, y_train, y_test = train_test_split(X, y, test_size = 0.3, random_state = 400)\n",
    "#Create a Bagged Decision Tree model object\n",
    "baggedModel = ensemble.BaggingRegressor(base_estimator=None, n_estimators=50, oob_score=True)\n",
    "baggedModel.fit(X_train,y_train)\n",
    "pred_bag4=baggedModel.predict(X_test_main)\n",
    "#Decision Tree Model\n",
    "model = DecisionTreeRegressor(max_depth=10, min_samples_leaf=5)\n",
    "model.fit(X_train, y_train)\n",
    "pred_dec4=model.predict(X_test_main)"
   ]
  },
  {
   "cell_type": "code",
   "execution_count": 9,
   "metadata": {},
   "outputs": [],
   "source": [
    "#5th sample\n",
    "X_train, X_test, y_train, y_test = train_test_split(X, y, test_size = 0.3, random_state = 500)\n",
    "#Create a Bagged Decision Tree model object\n",
    "baggedModel = ensemble.BaggingRegressor(base_estimator=None, n_estimators=50, oob_score=True)\n",
    "baggedModel.fit(X_train,y_train)\n",
    "pred_bag5=baggedModel.predict(X_test_main)\n",
    "#Decision Tree Model\n",
    "model = DecisionTreeRegressor(max_depth=10, min_samples_leaf=5)\n",
    "model.fit(X_train, y_train)\n",
    "pred_dec5=model.predict(X_test_main)"
   ]
  },
  {
   "cell_type": "code",
   "execution_count": 10,
   "metadata": {},
   "outputs": [],
   "source": [
    "#6th sample\n",
    "X_train, X_test, y_train, y_test = train_test_split(X, y, test_size = 0.3, random_state = 600)\n",
    "#Create a Bagged Decision Tree model object\n",
    "baggedModel = ensemble.BaggingRegressor(base_estimator=None, n_estimators=50, oob_score=True)\n",
    "baggedModel.fit(X_train,y_train)\n",
    "pred_bag6=baggedModel.predict(X_test_main)\n",
    "#Decision Tree Model\n",
    "model = DecisionTreeRegressor(max_depth=10, min_samples_leaf=5)\n",
    "model.fit(X_train, y_train)\n",
    "pred_dec6=model.predict(X_test_main)"
   ]
  },
  {
   "cell_type": "code",
   "execution_count": 11,
   "metadata": {},
   "outputs": [],
   "source": [
    "#7th sample\n",
    "X_train, X_test, y_train, y_test = train_test_split(X, y, test_size = 0.3, random_state = 700)\n",
    "#Create a Bagged Decision Tree model object\n",
    "baggedModel = ensemble.BaggingRegressor(base_estimator=None, n_estimators=50, oob_score=True)\n",
    "baggedModel.fit(X_train,y_train)\n",
    "pred_bag7=baggedModel.predict(X_test_main)\n",
    "#Decision Tree Model\n",
    "model = DecisionTreeRegressor(max_depth=10, min_samples_leaf=5)\n",
    "model.fit(X_train, y_train)\n",
    "pred_dec7=model.predict(X_test_main)"
   ]
  },
  {
   "cell_type": "code",
   "execution_count": 12,
   "metadata": {},
   "outputs": [],
   "source": [
    "#8th sample\n",
    "X_train, X_test, y_train, y_test = train_test_split(X, y, test_size = 0.3, random_state = 800)\n",
    "#Create a Bagged Decision Tree model object\n",
    "baggedModel = ensemble.BaggingRegressor(base_estimator=None, n_estimators=50, oob_score=True)\n",
    "baggedModel.fit(X_train,y_train)\n",
    "pred_bag8=baggedModel.predict(X_test_main)\n",
    "#Decision Tree Model\n",
    "model = DecisionTreeRegressor(max_depth=10, min_samples_leaf=5)\n",
    "model.fit(X_train, y_train)\n",
    "pred_dec8=model.predict(X_test_main)"
   ]
  },
  {
   "cell_type": "code",
   "execution_count": 13,
   "metadata": {},
   "outputs": [],
   "source": [
    "#9th sample\n",
    "X_train, X_test, y_train, y_test = train_test_split(X, y, test_size = 0.3, random_state = 900)\n",
    "#Create a Bagged Decision Tree model object\n",
    "baggedModel = ensemble.BaggingRegressor(base_estimator=None, n_estimators=50, oob_score=True)\n",
    "baggedModel.fit(X_train,y_train)\n",
    "pred_bag9=baggedModel.predict(X_test_main)\n",
    "#Decision Tree Model\n",
    "model = DecisionTreeRegressor(max_depth=10, min_samples_leaf=5)\n",
    "model.fit(X_train, y_train)\n",
    "pred_dec9=model.predict(X_test_main)"
   ]
  },
  {
   "cell_type": "code",
   "execution_count": 14,
   "metadata": {},
   "outputs": [],
   "source": [
    "#10th sample\n",
    "X_train, X_test, y_train, y_test = train_test_split(X, y, test_size = 0.3, random_state = 1000)\n",
    "#Create a Bagged Decision Tree model object\n",
    "baggedModel = ensemble.BaggingRegressor(base_estimator=None, n_estimators=50, oob_score=True)\n",
    "baggedModel.fit(X_train,y_train)\n",
    "pred_bag10=baggedModel.predict(X_test_main)\n",
    "#Decision Tree Model\n",
    "model = DecisionTreeRegressor(max_depth=10, min_samples_leaf=5)\n",
    "model.fit(X_train, y_train)\n",
    "pred_dec10=model.predict(X_test_main)"
   ]
  },
  {
   "cell_type": "code",
   "execution_count": 15,
   "metadata": {},
   "outputs": [],
   "source": [
    "#Creating a Data Frame with all the predicions done by decision trees\n",
    "dec_tree=[pred_dec1,pred_dec2,pred_dec3,pred_dec4,pred_dec5,pred_dec6,pred_dec7,pred_dec8,pred_dec9\n",
    "          ,pred_dec10]\n",
    "dec_tree = pd.DataFrame(dec_tree)\n",
    "dec_tree=dec_tree.T"
   ]
  },
  {
   "cell_type": "code",
   "execution_count": 16,
   "metadata": {},
   "outputs": [
    {
     "data": {
      "text/html": [
       "<div>\n",
       "<style scoped>\n",
       "    .dataframe tbody tr th:only-of-type {\n",
       "        vertical-align: middle;\n",
       "    }\n",
       "\n",
       "    .dataframe tbody tr th {\n",
       "        vertical-align: top;\n",
       "    }\n",
       "\n",
       "    .dataframe thead th {\n",
       "        text-align: right;\n",
       "    }\n",
       "</style>\n",
       "<table border=\"1\" class=\"dataframe\">\n",
       "  <thead>\n",
       "    <tr style=\"text-align: right;\">\n",
       "      <th></th>\n",
       "      <th>0</th>\n",
       "      <th>1</th>\n",
       "      <th>2</th>\n",
       "      <th>3</th>\n",
       "      <th>4</th>\n",
       "      <th>5</th>\n",
       "      <th>6</th>\n",
       "      <th>7</th>\n",
       "      <th>8</th>\n",
       "      <th>9</th>\n",
       "    </tr>\n",
       "  </thead>\n",
       "  <tbody>\n",
       "    <tr>\n",
       "      <th>0</th>\n",
       "      <td>15.571429</td>\n",
       "      <td>14.071429</td>\n",
       "      <td>14.416667</td>\n",
       "      <td>15.388889</td>\n",
       "      <td>14.1250</td>\n",
       "      <td>14.062500</td>\n",
       "      <td>16.166667</td>\n",
       "      <td>16.071429</td>\n",
       "      <td>16.483333</td>\n",
       "      <td>14.222222</td>\n",
       "    </tr>\n",
       "    <tr>\n",
       "      <th>1</th>\n",
       "      <td>30.625000</td>\n",
       "      <td>27.500000</td>\n",
       "      <td>28.900000</td>\n",
       "      <td>27.744444</td>\n",
       "      <td>29.5875</td>\n",
       "      <td>33.700000</td>\n",
       "      <td>28.137500</td>\n",
       "      <td>26.028571</td>\n",
       "      <td>26.085714</td>\n",
       "      <td>31.240000</td>\n",
       "    </tr>\n",
       "    <tr>\n",
       "      <th>2</th>\n",
       "      <td>26.500000</td>\n",
       "      <td>26.312500</td>\n",
       "      <td>28.766667</td>\n",
       "      <td>30.983333</td>\n",
       "      <td>27.7000</td>\n",
       "      <td>25.985714</td>\n",
       "      <td>24.000000</td>\n",
       "      <td>31.600000</td>\n",
       "      <td>24.666667</td>\n",
       "      <td>30.800000</td>\n",
       "    </tr>\n",
       "  </tbody>\n",
       "</table>\n",
       "</div>"
      ],
      "text/plain": [
       "           0          1          2          3        4          5          6  \\\n",
       "0  15.571429  14.071429  14.416667  15.388889  14.1250  14.062500  16.166667   \n",
       "1  30.625000  27.500000  28.900000  27.744444  29.5875  33.700000  28.137500   \n",
       "2  26.500000  26.312500  28.766667  30.983333  27.7000  25.985714  24.000000   \n",
       "\n",
       "           7          8          9  \n",
       "0  16.071429  16.483333  14.222222  \n",
       "1  26.028571  26.085714  31.240000  \n",
       "2  31.600000  24.666667  30.800000  "
      ]
     },
     "execution_count": 16,
     "metadata": {},
     "output_type": "execute_result"
    }
   ],
   "source": [
    "dec_tree.head(3)"
   ]
  },
  {
   "cell_type": "code",
   "execution_count": 17,
   "metadata": {},
   "outputs": [],
   "source": [
    "#Creating a Data Frame with all the predicions done by ensemble models(Bagged models)\n",
    "bag_tree = [pred_bag1,pred_bag2,pred_bag3,pred_bag4,pred_bag5,pred_bag6,pred_bag7,\n",
    "          pred_bag8,pred_bag9,pred_bag10]\n",
    "bag_tree = pd.DataFrame(bag_tree)\n",
    "bag_tree = bag_tree.T"
   ]
  },
  {
   "cell_type": "code",
   "execution_count": 18,
   "metadata": {},
   "outputs": [
    {
     "data": {
      "text/html": [
       "<div>\n",
       "<style scoped>\n",
       "    .dataframe tbody tr th:only-of-type {\n",
       "        vertical-align: middle;\n",
       "    }\n",
       "\n",
       "    .dataframe tbody tr th {\n",
       "        vertical-align: top;\n",
       "    }\n",
       "\n",
       "    .dataframe thead th {\n",
       "        text-align: right;\n",
       "    }\n",
       "</style>\n",
       "<table border=\"1\" class=\"dataframe\">\n",
       "  <thead>\n",
       "    <tr style=\"text-align: right;\">\n",
       "      <th></th>\n",
       "      <th>0</th>\n",
       "      <th>1</th>\n",
       "      <th>2</th>\n",
       "      <th>3</th>\n",
       "      <th>4</th>\n",
       "      <th>5</th>\n",
       "      <th>6</th>\n",
       "      <th>7</th>\n",
       "      <th>8</th>\n",
       "      <th>9</th>\n",
       "    </tr>\n",
       "  </thead>\n",
       "  <tbody>\n",
       "    <tr>\n",
       "      <th>0</th>\n",
       "      <td>13.550</td>\n",
       "      <td>13.938</td>\n",
       "      <td>13.440</td>\n",
       "      <td>13.848</td>\n",
       "      <td>13.430</td>\n",
       "      <td>13.630</td>\n",
       "      <td>13.650</td>\n",
       "      <td>14.196</td>\n",
       "      <td>14.980</td>\n",
       "      <td>13.764</td>\n",
       "    </tr>\n",
       "    <tr>\n",
       "      <th>1</th>\n",
       "      <td>30.636</td>\n",
       "      <td>27.482</td>\n",
       "      <td>27.450</td>\n",
       "      <td>27.354</td>\n",
       "      <td>27.096</td>\n",
       "      <td>26.992</td>\n",
       "      <td>27.660</td>\n",
       "      <td>27.770</td>\n",
       "      <td>27.258</td>\n",
       "      <td>27.478</td>\n",
       "    </tr>\n",
       "    <tr>\n",
       "      <th>2</th>\n",
       "      <td>26.596</td>\n",
       "      <td>27.350</td>\n",
       "      <td>26.802</td>\n",
       "      <td>27.384</td>\n",
       "      <td>26.552</td>\n",
       "      <td>26.446</td>\n",
       "      <td>26.834</td>\n",
       "      <td>28.606</td>\n",
       "      <td>26.292</td>\n",
       "      <td>31.232</td>\n",
       "    </tr>\n",
       "  </tbody>\n",
       "</table>\n",
       "</div>"
      ],
      "text/plain": [
       "        0       1       2       3       4       5       6       7       8  \\\n",
       "0  13.550  13.938  13.440  13.848  13.430  13.630  13.650  14.196  14.980   \n",
       "1  30.636  27.482  27.450  27.354  27.096  26.992  27.660  27.770  27.258   \n",
       "2  26.596  27.350  26.802  27.384  26.552  26.446  26.834  28.606  26.292   \n",
       "\n",
       "        9  \n",
       "0  13.764  \n",
       "1  27.478  \n",
       "2  31.232  "
      ]
     },
     "execution_count": 18,
     "metadata": {},
     "output_type": "execute_result"
    }
   ],
   "source": [
    "bag_tree.head(3)"
   ]
  },
  {
   "cell_type": "code",
   "execution_count": 19,
   "metadata": {},
   "outputs": [
    {
     "data": {
      "text/plain": [
       "Text(0.5, 1.0, 'Ensemble model prediction distribution')"
      ]
     },
     "execution_count": 19,
     "metadata": {},
     "output_type": "execute_result"
    },
    {
     "data": {
      "image/png": "[encoded data removed]",
      "text/plain": [
       "<Figure size 1440x720 with 1 Axes>"
      ]
     },
     "metadata": {
      "needs_background": "light"
     },
     "output_type": "display_data"
    }
   ],
   "source": [
    "#For bagged model\n",
    "bag_tree_box=bag_tree.T\n",
    "plt.figure(figsize=(20,10))\n",
    "sns.boxplot(data=bag_tree_box)\n",
    "plt.title('Ensemble model prediction distribution',fontsize=35)"
   ]
  },
  {
   "cell_type": "code",
   "execution_count": 20,
   "metadata": {},
   "outputs": [
    {
     "data": {
      "text/plain": [
       "Text(0.5, 1.0, 'Decision Tree model prediction distribution')"
      ]
     },
     "execution_count": 20,
     "metadata": {},
     "output_type": "execute_result"
    },
    {
     "data": {
      "image/png": "[encoded data removed]",
      "text/plain": [
       "<Figure size 1440x720 with 1 Axes>"
      ]
     },
     "metadata": {
      "needs_background": "light"
     },
     "output_type": "display_data"
    }
   ],
   "source": [
    "#For decision tree\n",
    "dec_tree_box=dec_tree.T\n",
    "plt.figure(figsize=(20,10))\n",
    "sns.boxplot(data=dec_tree_box)\n",
    "plt.title('Decision Tree model prediction distribution',fontsize=35)"
   ]
  },
  {
   "cell_type": "markdown",
   "metadata": {},
   "source": [
    "Finding the Standard deviation of the outputs for decision tree prediction matrix as well as bagged model."
   ]
  },
  {
   "cell_type": "code",
   "execution_count": 21,
   "metadata": {},
   "outputs": [],
   "source": [
    "bagtree_sd=bag_tree.std(axis=1)\n",
    "dectree_sd=dec_tree.std(axis=1)"
   ]
  },
  {
   "cell_type": "markdown",
   "metadata": {},
   "source": [
    "We will check that how many times it has happened that our standard deviation is less in bagged model prediction\n",
    "when compared with decision tree model prediction."
   ]
  },
  {
   "cell_type": "code",
   "execution_count": 22,
   "metadata": {},
   "outputs": [
    {
     "name": "stdout",
     "output_type": "stream",
     "text": [
      "Percentage of SD lesser in bagged model= 92.0 %\n"
     ]
    }
   ],
   "source": [
    "count=0\n",
    "for i in range(0,len(bagtree_sd)):\n",
    "    if(bagtree_sd[i]<dectree_sd[i]):\n",
    "        count = count+1\n",
    "print('Percentage of SD lesser in bagged model=',count/len(bagtree_sd)*100,'%')"
   ]
  }
 ],
 "metadata": {
  "kernelspec": {
   "display_name": "Python 3",
   "language": "python",
   "name": "python3"
  },
  "language_info": {
   "codemirror_mode": {
    "name": "ipython",
    "version": 3
   },
   "file_extension": ".py",
   "mimetype": "text/x-python",
   "name": "python",
   "nbconvert_exporter": "python",
   "pygments_lexer": "ipython3",
   "version": "3.7.6"
  }
 },
 "nbformat": 4,
 "nbformat_minor": 4
}
